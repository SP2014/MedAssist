{
 "cells": [
  {
   "cell_type": "code",
   "execution_count": 17,
   "metadata": {},
   "outputs": [],
   "source": [
    "import requests\n",
    "from bs4 import BeautifulSoup\n",
    "import scrapy"
   ]
  },
  {
   "cell_type": "code",
   "execution_count": 64,
   "metadata": {},
   "outputs": [],
   "source": [
    "page = requests.get(\"http://www.everydayhealth.com/symptom-checker/\")"
   ]
  },
  {
   "cell_type": "code",
   "execution_count": 65,
   "metadata": {},
   "outputs": [
    {
     "data": {
      "text/plain": [
       "<Response [200]>"
      ]
     },
     "execution_count": 65,
     "metadata": {},
     "output_type": "execute_result"
    }
   ],
   "source": [
    "page"
   ]
  },
  {
   "cell_type": "code",
   "execution_count": null,
   "metadata": {},
   "outputs": [],
   "source": []
  },
  {
   "cell_type": "code",
   "execution_count": 66,
   "metadata": {
    "collapsed": true
   },
   "outputs": [],
   "source": [
    "soup = BeautifulSoup(page.content, 'html.parser')"
   ]
  },
  {
   "cell_type": "code",
   "execution_count": 68,
   "metadata": {},
   "outputs": [],
   "source": [
    "#print(soup.prettify())\n",
    "#list(soup.children)"
   ]
  },
  {
   "cell_type": "code",
   "execution_count": 69,
   "metadata": {
    "collapsed": true
   },
   "outputs": [],
   "source": [
    "html = list(soup.children)[1]"
   ]
  },
  {
   "cell_type": "code",
   "execution_count": 71,
   "metadata": {},
   "outputs": [],
   "source": [
    "#html\n",
    "#len(list(html.children))"
   ]
  },
  {
   "cell_type": "code",
   "execution_count": 42,
   "metadata": {},
   "outputs": [],
   "source": [
    "body = list(html.children)[3]"
   ]
  },
  {
   "cell_type": "code",
   "execution_count": 72,
   "metadata": {},
   "outputs": [],
   "source": [
    "med_list = soup.find('div',class_='eh-symptom-checker--articles')"
   ]
  },
  {
   "cell_type": "code",
   "execution_count": 74,
   "metadata": {},
   "outputs": [],
   "source": [
    "more_div = med_list.find_all('div',class_='card-recommendation')"
   ]
  },
  {
   "cell_type": "code",
   "execution_count": 76,
   "metadata": {},
   "outputs": [
    {
     "data": {
      "text/plain": [
       "30"
      ]
     },
     "execution_count": 76,
     "metadata": {},
     "output_type": "execute_result"
    }
   ],
   "source": [
    "len(more_div)"
   ]
  },
  {
   "cell_type": "code",
   "execution_count": 82,
   "metadata": {},
   "outputs": [
    {
     "name": "stdout",
     "output_type": "stream",
     "text": [
      "http://www.everydayhealth.com/flu/guide/\n",
      "http://www.everydayhealth.com/abdominal-pain/guide/\n",
      "http://www.everydayhealth.com/arm-pain/guide/\n",
      "http://www.everydayhealth.com/pain-management/back-pain/quick-tips-to-help-prevent-back-pain.aspx\n",
      "http://www.everydayhealth.com/pain-management-photos/treating-musculoskeletal-pain.aspx\n",
      "http://www.everydayhealth.com/breast-pain/guide/\n",
      "http://www.everydayhealth.com/breathing-difficulty/guide/\n",
      "http://www.everydayhealth.com/angina/guide/\n",
      "http://www.everydayhealth.com/sinus-health-guide/sinus-congestion-and-mucus.aspx\n",
      "http://www.everydayhealth.com/cough/guide/\n",
      "http://www.everydayhealth.com/digestive-health/diarrhea/index.aspx\n",
      "http://www.everydayhealth.com/ear-pain/guide/\n",
      "http://www.everydayhealth.com/healthy-living/understanding/self-conscious-about-excessive-sweat.aspx\n",
      "http://www.everydayhealth.com/heart-health/fainting-is-it-your-head-or-your-heart.aspx\n",
      "http://www.everydayhealth.com/news/10-surprising-facts-about-dizziness-vertigo/\n",
      "http://www.everydayhealth.com/cold-and-flu/why-do-we-get-chills-with-a-fever.aspx\n",
      "http://www.everydayhealth.com/digestive-health/gas/index.aspx\n",
      "http://www.everydayhealth.com/headache/guide/\n",
      "http://www.everydayhealth.com/pms/irregular-periods.aspx\n",
      "http://www.everydayhealth.com/osteoarthritis/guide/symptoms/\n",
      "http://www.everydayhealth.com/leg-pain/guide/\n",
      "http://www.everydayhealth.com/mouth-lesions/guide/\n",
      "http://www.everydayhealth.com/nausea/guide/\n",
      "http://www.everydayhealth.com/neck-pain/guide/\n",
      "http://www.everydayhealth.com/skin-and-beauty-photos/common-skin-rashes.aspx\n",
      "http://www.everydayhealth.com/rectal-bleeding/guide/\n",
      "http://www.everydayhealth.com/skin-lumps/guide/\n",
      "http://www.everydayhealth.com/ear-nose-throat/chronic-sore-throat.aspx\n",
      "http://www.everydayhealth.com/vaginal-itching/guide/\n",
      "http://www.everydayhealth.com/vomiting/guide/\n"
     ]
    }
   ],
   "source": [
    "for divs in more_div:\n",
    "    link = divs.find('a',class_='symptom--read-more')\n",
    "    print(link.get('href'))\n",
    "    '''try:\n",
    "        for l in link:\n",
    "            print(l.get('href')+'\\t'+l.contents)\n",
    "    except Exception as e:\n",
    "        pass'''\n",
    "        \n",
    "    \n",
    "        \n",
    "    \n",
    "    \n",
    "\n",
    "    #print(links.get('contents'))\n",
    "    "
   ]
  },
  {
   "cell_type": "code",
   "execution_count": null,
   "metadata": {
    "collapsed": true
   },
   "outputs": [],
   "source": []
  }
 ],
 "metadata": {
  "kernelspec": {
   "display_name": "Python 3",
   "language": "python",
   "name": "python3"
  },
  "language_info": {
   "codemirror_mode": {
    "name": "ipython",
    "version": 3
   },
   "file_extension": ".py",
   "mimetype": "text/x-python",
   "name": "python",
   "nbconvert_exporter": "python",
   "pygments_lexer": "ipython3",
   "version": "3.5.2"
  }
 },
 "nbformat": 4,
 "nbformat_minor": 2
}
